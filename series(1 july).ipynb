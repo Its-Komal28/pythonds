{
 "cells": [
  {
   "cell_type": "code",
   "execution_count": 1,
   "id": "fa3ee8a7-a536-4c63-a38e-38a8aa3e9715",
   "metadata": {},
   "outputs": [
    {
     "name": "stdout",
     "output_type": "stream",
     "text": [
      "Collecting pandas\n",
      "  Downloading pandas-2.3.0-cp312-cp312-win_amd64.whl.metadata (19 kB)\n",
      "Collecting numpy>=1.26.0 (from pandas)\n",
      "  Downloading numpy-2.3.1-cp312-cp312-win_amd64.whl.metadata (60 kB)\n",
      "     ---------------------------------------- 0.0/60.9 kB ? eta -:--:--\n",
      "     ------ --------------------------------- 10.2/60.9 kB ? eta -:--:--\n",
      "     ------------------- ------------------ 30.7/60.9 kB 660.6 kB/s eta 0:00:01\n",
      "     ------------------- ------------------ 30.7/60.9 kB 660.6 kB/s eta 0:00:01\n",
      "     -------------------------------------- 60.9/60.9 kB 464.6 kB/s eta 0:00:00\n",
      "Requirement already satisfied: python-dateutil>=2.8.2 in c:\\users\\savy\\appdata\\local\\programs\\python\\python312\\lib\\site-packages (from pandas) (2.9.0.post0)\n",
      "Collecting pytz>=2020.1 (from pandas)\n",
      "  Downloading pytz-2025.2-py2.py3-none-any.whl.metadata (22 kB)\n",
      "Collecting tzdata>=2022.7 (from pandas)\n",
      "  Downloading tzdata-2025.2-py2.py3-none-any.whl.metadata (1.4 kB)\n",
      "Requirement already satisfied: six>=1.5 in c:\\users\\savy\\appdata\\local\\programs\\python\\python312\\lib\\site-packages (from python-dateutil>=2.8.2->pandas) (1.17.0)\n",
      "Downloading pandas-2.3.0-cp312-cp312-win_amd64.whl (11.0 MB)\n",
      "   ---------------------------------------- 0.0/11.0 MB ? eta -:--:--\n",
      "   ---------------------------------------- 0.1/11.0 MB 1.3 MB/s eta 0:00:09\n",
      "   -- ------------------------------------- 0.7/11.0 MB 7.5 MB/s eta 0:00:02\n",
      "   ------ --------------------------------- 1.9/11.0 MB 13.3 MB/s eta 0:00:01\n",
      "   ------------- -------------------------- 3.6/11.0 MB 19.2 MB/s eta 0:00:01\n",
      "   -------------------- ------------------- 5.6/11.0 MB 23.8 MB/s eta 0:00:01\n",
      "   -------------------------- ------------- 7.2/11.0 MB 25.8 MB/s eta 0:00:01\n",
      "   --------------------------------- ------ 9.3/11.0 MB 28.3 MB/s eta 0:00:01\n",
      "   -------------------------------------- - 10.7/11.0 MB 34.4 MB/s eta 0:00:01\n",
      "   ---------------------------------------  11.0/11.0 MB 34.4 MB/s eta 0:00:01\n",
      "   ---------------------------------------- 11.0/11.0 MB 27.3 MB/s eta 0:00:00\n",
      "Downloading numpy-2.3.1-cp312-cp312-win_amd64.whl (12.7 MB)\n",
      "   ---------------------------------------- 0.0/12.7 MB ? eta -:--:--\n",
      "   ------ --------------------------------- 2.0/12.7 MB 64.7 MB/s eta 0:00:01\n",
      "   ------------ --------------------------- 4.0/12.7 MB 42.5 MB/s eta 0:00:01\n",
      "   ----------------- ---------------------- 5.7/12.7 MB 45.7 MB/s eta 0:00:01\n",
      "   ---------------------- ----------------- 7.2/12.7 MB 38.7 MB/s eta 0:00:01\n",
      "   -------------------------- ------------- 8.5/12.7 MB 38.9 MB/s eta 0:00:01\n",
      "   ------------------------------ --------- 9.7/12.7 MB 34.7 MB/s eta 0:00:01\n",
      "   ---------------------------------- ----- 10.9/12.7 MB 32.8 MB/s eta 0:00:01\n",
      "   -------------------------------------- - 12.1/12.7 MB 29.7 MB/s eta 0:00:01\n",
      "   ---------------------------------------  12.7/12.7 MB 31.2 MB/s eta 0:00:01\n",
      "   ---------------------------------------- 12.7/12.7 MB 27.3 MB/s eta 0:00:00\n",
      "Downloading pytz-2025.2-py2.py3-none-any.whl (509 kB)\n",
      "   ---------------------------------------- 0.0/509.2 kB ? eta -:--:--\n",
      "   ----------------------------- --------- 389.1/509.2 kB 23.7 MB/s eta 0:00:01\n",
      "   ---------------------------------------- 509.2/509.2 kB 7.9 MB/s eta 0:00:00\n",
      "Downloading tzdata-2025.2-py2.py3-none-any.whl (347 kB)\n",
      "   ---------------------------------------- 0.0/347.8 kB ? eta -:--:--\n",
      "   --------------------------------------- 347.8/347.8 kB 22.5 MB/s eta 0:00:00\n",
      "Installing collected packages: pytz, tzdata, numpy, pandas\n",
      "Successfully installed numpy-2.3.1 pandas-2.3.0 pytz-2025.2 tzdata-2025.2\n",
      "Note: you may need to restart the kernel to use updated packages.\n"
     ]
    },
    {
     "name": "stderr",
     "output_type": "stream",
     "text": [
      "\n",
      "[notice] A new release of pip is available: 24.0 -> 25.1.1\n",
      "[notice] To update, run: python.exe -m pip install --upgrade pip\n"
     ]
    }
   ],
   "source": [
    "pip install pandas"
   ]
  },
  {
   "cell_type": "code",
   "execution_count": 2,
   "id": "1d514e9f-c1ed-4404-b3c6-2d70b3f5f40b",
   "metadata": {},
   "outputs": [],
   "source": [
    "import pandas as pd"
   ]
  },
  {
   "cell_type": "code",
   "execution_count": 6,
   "id": "70ce954d-d332-4ebe-b9fe-5ef51e1efe7c",
   "metadata": {},
   "outputs": [
    {
     "data": {
      "text/plain": [
       "x    100\n",
       "y    200\n",
       "z    300\n",
       "w    400\n",
       "dtype: int64"
      ]
     },
     "execution_count": 6,
     "metadata": {},
     "output_type": "execute_result"
    }
   ],
   "source": [
    "data = pd.Series([100, 200, 300, 400], index=['x', 'y', 'z', 'w'])  \n",
    "data"
   ]
  },
  {
   "cell_type": "code",
   "execution_count": 9,
   "id": "13dfcc4b-80b7-40dd-ba52-cb7a41b6ee50",
   "metadata": {},
   "outputs": [
    {
     "data": {
      "text/plain": [
       "np.int64(200)"
      ]
     },
     "execution_count": 9,
     "metadata": {},
     "output_type": "execute_result"
    }
   ],
   "source": [
    "# Question 1\n",
    "data.loc['y']"
   ]
  },
  {
   "cell_type": "code",
   "execution_count": 7,
   "id": "5aa2b0d5-7e9e-43bd-820a-23774095e885",
   "metadata": {},
   "outputs": [],
   "source": [
    "import pandas as pd\n"
   ]
  },
  {
   "cell_type": "code",
   "execution_count": 8,
   "id": "d02a60a1-4054-4146-9554-33097965d8a6",
   "metadata": {},
   "outputs": [
    {
     "data": {
      "text/plain": [
       "np.int64(200)"
      ]
     },
     "execution_count": 8,
     "metadata": {},
     "output_type": "execute_result"
    }
   ],
   "source": [
    "# Question 2\n",
    "data = pd.Series([100, 200, 300, 400], index=['x', 'y', 'z', 'w'])  \n",
    "data.iloc[1]\n"
   ]
  },
  {
   "cell_type": "code",
   "execution_count": 9,
   "id": "57093401-55ed-40b2-8775-9e4c42c8cd5c",
   "metadata": {},
   "outputs": [
    {
     "data": {
      "text/plain": [
       "x    100\n",
       "y    200\n",
       "z    300\n",
       "w    400\n",
       "dtype: int64"
      ]
     },
     "execution_count": 9,
     "metadata": {},
     "output_type": "execute_result"
    }
   ],
   "source": [
    "# Question 3\n",
    "data.loc['x':'w']"
   ]
  },
  {
   "cell_type": "code",
   "execution_count": 10,
   "id": "c0182967-849d-4d1f-8654-9c8f536c9310",
   "metadata": {},
   "outputs": [
    {
     "data": {
      "text/plain": [
       "np.int64(400)"
      ]
     },
     "execution_count": 10,
     "metadata": {},
     "output_type": "execute_result"
    }
   ],
   "source": [
    "# Question 4\n",
    "data.iloc[len(data)-1]"
   ]
  },
  {
   "cell_type": "code",
   "execution_count": 17,
   "id": "b3027ff4-8089-4f3f-b801-50a9c2deada7",
   "metadata": {},
   "outputs": [
    {
     "data": {
      "text/plain": [
       "y    200\n",
       "z    300\n",
       "dtype: int64"
      ]
     },
     "execution_count": 17,
     "metadata": {},
     "output_type": "execute_result"
    }
   ],
   "source": [
    "# Question 5\n",
    "data.loc['y':'z']"
   ]
  },
  {
   "cell_type": "code",
   "execution_count": 24,
   "id": "24cdf71b-834c-4920-b92e-facbc2d36ce4",
   "metadata": {},
   "outputs": [
    {
     "data": {
      "text/plain": [
       "np.int64(300)"
      ]
     },
     "execution_count": 24,
     "metadata": {},
     "output_type": "execute_result"
    }
   ],
   "source": [
    "#Question 6\n",
    "#.loc[2] -- uses label based indexing.\n",
    "#.iloc[2] -- uses position based indexing.\n",
    "data.iloc[2]\n"
   ]
  },
  {
   "cell_type": "code",
   "execution_count": 21,
   "id": "e0df8fcd-ba12-4bc1-930b-fadf6efb0712",
   "metadata": {},
   "outputs": [
    {
     "data": {
      "text/plain": [
       "np.int64(100)"
      ]
     },
     "execution_count": 21,
     "metadata": {},
     "output_type": "execute_result"
    }
   ],
   "source": [
    "# Question 7\n",
    "data.x"
   ]
  },
  {
   "cell_type": "code",
   "execution_count": null,
   "id": "31d5fb2f-ec04-4569-adc9-6b2cbc1ff1b6",
   "metadata": {},
   "outputs": [],
   "source": []
  },
  {
   "cell_type": "code",
   "execution_count": null,
   "id": "e5749d43-6c3f-4c02-a493-b68063037eac",
   "metadata": {},
   "outputs": [],
   "source": []
  }
 ],
 "metadata": {
  "kernelspec": {
   "display_name": "Python 3 (ipykernel)",
   "language": "python",
   "name": "python3"
  },
  "language_info": {
   "codemirror_mode": {
    "name": "ipython",
    "version": 3
   },
   "file_extension": ".py",
   "mimetype": "text/x-python",
   "name": "python",
   "nbconvert_exporter": "python",
   "pygments_lexer": "ipython3",
   "version": "3.12.4"
  }
 },
 "nbformat": 4,
 "nbformat_minor": 5
}
